{
  "cells": [
    {
      "cell_type": "markdown",
      "metadata": {
        "id": "4DrP1n1sjg-e"
      },
      "source": [
        "<a href=\"https://colab.research.google.com/github/TomographicImaging/gVXR-Tutorials/blob/main/notebooks/first_xray_simulation.ipynb\" target=\"_parent\"><img src=\"https://colab.research.google.com/assets/colab-badge.svg\" alt=\"Open In Colab\"/></a>"
      ]
    },
    {
      "cell_type": "code",
      "execution_count": null,
      "metadata": {
        "id": "be4b4b61-7abb-440c-9605-486bce082901"
      },
      "outputs": [],
      "source": [
        "# -*- coding: utf-8 -*-\n",
        "#\n",
        "#  Copyright 2024 United Kingdom Research and Innovation\n",
        "#\n",
        "#  Licensed under the Apache License, Version 2.0 (the \"License\");\n",
        "#  you may not use this file except in compliance with the License.\n",
        "#  You may obtain a copy of the License at\n",
        "#\n",
        "#      http://www.apache.org/licenses/LICENSE-2.0\n",
        "#\n",
        "#  Unless required by applicable law or agreed to in writing, software\n",
        "#  distributed under the License is distributed on an \"AS IS\" BASIS,\n",
        "#  WITHOUT WARRANTIES OR CONDITIONS OF ANY KIND, either express or implied.\n",
        "#  See the License for the specific language governing permissions and\n",
        "#  limitations under the License.\n",
        "#\n",
        "#   Authored by:    Franck Vidal (UKRI-STFC)"
      ]
    },
    {
      "cell_type": "markdown",
      "metadata": {
        "id": "LitIbS2Yjg-g",
        "tags": []
      },
      "source": [
        "![gVXR](https://github.com/TomographicImaging/gVXR-Tutorials/blob/main/img/Logo-transparent-small.png?raw=1)\n",
        "\n",
        "# First simulated X-ray image\n",
        "\n",
        "This notebook is a step-by-step tutorial to show how to create our first X-ray radiograph.\n",
        "A mono-material object is imaged with a monochromatic source and an ideal detector.\n",
        "We show how to visualise the X-ray radiograph and take a screenshot of the 3D visualisation of the simulation environment.\n",
        "\n",
        "<div class=\"alert alert-block alert-warning\">\n",
        "    <b>Note:</b> Make sure the Python packages are already installed. See <a href=\"../README.md\">README.md</a> in the root directory of the repository. If you are running this notebook from Google Colab, please run the cell below to install the package with `!pip install gvxr`\n",
        "</div>"
      ]
    },
    {
      "cell_type": "code",
      "execution_count": 3,
      "metadata": {
        "colab": {
          "base_uri": "https://localhost:8080/"
        },
        "id": "bSYJhBjCjg-h",
        "outputId": "5d60e464-2151-43db-b6d6-6b409d97f94b"
      },
      "outputs": [
        {
          "output_type": "stream",
          "name": "stdout",
          "text": [
            "Reading package lists... Done\n",
            "Building dependency tree... Done\n",
            "Reading state information... Done\n",
            "libnvidia-gl-575 is already the newest version (575.57.08-0ubuntu1).\n",
            "0 upgraded, 0 newly installed, 0 to remove and 35 not upgraded.\n",
            "Requirement already satisfied: gvxr in /usr/local/lib/python3.11/dist-packages (2.0.10)\n",
            "Requirement already satisfied: xpecgen in /usr/local/lib/python3.11/dist-packages (from gvxr) (1.3.0)\n",
            "Requirement already satisfied: spekpy in /usr/local/lib/python3.11/dist-packages (from gvxr) (2.0.13)\n",
            "Requirement already satisfied: scikit-image in /usr/local/lib/python3.11/dist-packages (from gvxr) (0.25.2)\n",
            "Requirement already satisfied: numpy in /usr/local/lib/python3.11/dist-packages (from gvxr) (2.0.2)\n",
            "Requirement already satisfied: matplotlib in /usr/local/lib/python3.11/dist-packages (from gvxr) (3.10.0)\n",
            "Requirement already satisfied: pillow in /usr/local/lib/python3.11/dist-packages (from gvxr) (11.2.1)\n",
            "Requirement already satisfied: contourpy>=1.0.1 in /usr/local/lib/python3.11/dist-packages (from matplotlib->gvxr) (1.3.2)\n",
            "Requirement already satisfied: cycler>=0.10 in /usr/local/lib/python3.11/dist-packages (from matplotlib->gvxr) (0.12.1)\n",
            "Requirement already satisfied: fonttools>=4.22.0 in /usr/local/lib/python3.11/dist-packages (from matplotlib->gvxr) (4.58.4)\n",
            "Requirement already satisfied: kiwisolver>=1.3.1 in /usr/local/lib/python3.11/dist-packages (from matplotlib->gvxr) (1.4.8)\n",
            "Requirement already satisfied: packaging>=20.0 in /usr/local/lib/python3.11/dist-packages (from matplotlib->gvxr) (24.2)\n",
            "Requirement already satisfied: pyparsing>=2.3.1 in /usr/local/lib/python3.11/dist-packages (from matplotlib->gvxr) (3.2.3)\n",
            "Requirement already satisfied: python-dateutil>=2.7 in /usr/local/lib/python3.11/dist-packages (from matplotlib->gvxr) (2.9.0.post0)\n",
            "Requirement already satisfied: scipy>=1.11.4 in /usr/local/lib/python3.11/dist-packages (from scikit-image->gvxr) (1.15.3)\n",
            "Requirement already satisfied: networkx>=3.0 in /usr/local/lib/python3.11/dist-packages (from scikit-image->gvxr) (3.5)\n",
            "Requirement already satisfied: imageio!=2.35.0,>=2.33 in /usr/local/lib/python3.11/dist-packages (from scikit-image->gvxr) (2.37.0)\n",
            "Requirement already satisfied: tifffile>=2022.8.12 in /usr/local/lib/python3.11/dist-packages (from scikit-image->gvxr) (2025.6.11)\n",
            "Requirement already satisfied: lazy-loader>=0.4 in /usr/local/lib/python3.11/dist-packages (from scikit-image->gvxr) (0.4)\n",
            "Requirement already satisfied: XlsxWriter in /usr/local/lib/python3.11/dist-packages (from xpecgen->gvxr) (3.2.5)\n",
            "Requirement already satisfied: future in /usr/local/lib/python3.11/dist-packages (from xpecgen->gvxr) (1.0.0)\n",
            "Requirement already satisfied: six>=1.5 in /usr/local/lib/python3.11/dist-packages (from python-dateutil>=2.7->matplotlib->gvxr) (1.17.0)\n"
          ]
        }
      ],
      "source": [
        "import sys\n",
        "IN_COLAB = 'google.colab' in sys.modules\n",
        "\n",
        "if IN_COLAB:\n",
        "    !apt-get install libnvidia-gl-575\n",
        "    !pip install gvxr"
      ]
    },
    {
      "cell_type": "markdown",
      "metadata": {
        "id": "77W1AXNQjg-h"
      },
      "source": [
        "# Aims of this session\n",
        "\n",
        "1. Create our first X-ray simulation, step-by-step;\n",
        "2. Save our X-ray image in a file format that preserves the original dynamic range;\n",
        "3. Visualise the results with 3 different look-up tables;\n",
        "4. Visualise the 3D environment.\n",
        "\n",
        "![](https://github.com/TomographicImaging/gVXR-Tutorials/blob/main/img/02-visualisation.png?raw=1)"
      ]
    },
    {
      "cell_type": "markdown",
      "metadata": {
        "id": "kieFDG2djg-h",
        "tags": []
      },
      "source": [
        "# Main steps\n",
        "\n",
        "There are 6 main steps to simulate an X-ray image:\n",
        "\n",
        "1. Create a renderer (OpenGL context)\n",
        "2. Set the X-ray source\n",
        "3. Set the Spectrum\n",
        "4. Set the Detector\n",
        "5. Set the Sample\n",
        "6. Compute the corresponding X-ray image."
      ]
    },
    {
      "cell_type": "markdown",
      "metadata": {
        "id": "rxBXwyIbjg-i"
      },
      "source": [
        "# Cheat Sheet\n",
        "\n",
        "## Simulation parameters\n",
        "\n",
        "| Parameters | Values | Units | Function call |\n",
        "|------------|--------|-------|---------------|\n",
        "| Source position | [-40, 0, 0] | cm | `gvxr.setSourcePosition(-40.0, 0.0, 0.0, \"cm\")` |\n",
        "| Source type (beam shape) | Point source (cone beam) | | `gvxr.usePointSource()` |\n",
        "| Beam spectrum | Monochromatic: 1,000 photons of 80 | keV | `gvxr.setMonoChromatic(80.0, \"keV\", 1000)` or |\n",
        "| | | MeV | `gvxr.setMonoChromatic(0.08, \"MeV\", 1000)` |\n",
        "| Detector position | [10, 0, 0] | cm | `gvxr.setDetectorPosition(10.0, 0.0, 0.0, \"cm\")` |\n",
        "| Detector orientation | [0, 0, -1] |  | `gvxr.setDetectorUpVector(0, 0, -1)` |\n",
        "| Detector resolution | 640 &times; 320 | pixels | `gvxr.setDetectorNumberOfPixels(640, 320)` |\n",
        "| Pixel spacing | 0.5 &times; 0.5 | mm | `gvxr.setDetectorPixelSize(0.5, 0.5, \"mm\")` |\n",
        "| Sample | STL file of the Welsh dragon | mm | `gvxr.loadMeshFile(string_ID, fname, \"mm\")` |\n",
        "| Material composition | Ti90Al6V4 alloy |  | `gvxr.setMixture(\"Dragon\", \"Ti90Al6V4\")` or |\n",
        "| | | | `gvxr.setMixture(\"Dragon\", [22, 13, 23], [0.9, 0.06, 0.04])` |\n",
        "| Material density | 4.43 | g/cm3 | `gvxr.setDensity(\"Dragon\", 4.43, \"g/cm3\")` or |\n",
        "| | | g.cm-3 | `gvxr.setDensity(\"Dragon\", 4.43, \"g.cm-3\")` |\n",
        "\n",
        "## Other gVXR's function used\n",
        "\n",
        "| Functions | Descriptions |\n",
        "|-----------|--------------|\n",
        "| `gvxr.createOpenGLContext` | Create a simulation environment automatically. You must call either `gvxr.createOpenGLContext()` or `gvxr.createNewContext()` before any other functions from gVXR. |\n",
        "| `gvxr.moveToCentre` | Move a polygon mesh to the centre. |\n",
        "| `gvxr.setElement` | Set the chemical element (e.g. iron) corresponding to the material properties of a polygon mesh. |\n",
        "| `gvxr.setCompound` | Set the compound (e.g. water) corresponding to the material properties of a polygon mesh. |\n",
        "| `gvxr.computeXRayImage` | Compute the X-ray projection corresponding to the environment that has previously been set. |\n",
        "| `gvxr.displayScene` | Update the visualisation window. It works with both the interactive window and offscreen rendering. |\n",
        "| `gvxr.saveLastXRayImage` | Save the last computed X-ray image in a file (e.g. TIFF, MHA, MHD/RAW) and store the data using single-precision floating-point numbers. |\n",
        "| `gvxr.saveLastLBuffer` | Save the last computed path length in a file (e.g. TIFF, MHA, MHD/RAW) and store the data using single-precision floating-point numbers. The red channel is the path length; the green and blue channels can be used to detect errors (0.0 values mean no error). |\n",
        "| `gvxr.setColour` | Change the colour of an object in the 3D visualisation. |\n",
        "| `gvxr.setWindowBackGroundColour` | Change the background colour of the 3D visualisation. |\n",
        "| `gvxr.takeScreenshot` | Take the screenshot of the current state of the 3D visualisation. |\n",
        "| `gvxr.renderLoop` | Activate the interactive mode of the 3D visualisation. |\n",
        "| `gvxr.terminate` | Close and destroy all the windows and simulation contexts that have been created. No further gVXR's function should be called after `gvxr.terminate`. |"
      ]
    },
    {
      "cell_type": "markdown",
      "metadata": {
        "id": "98anuGe-jg-i"
      },
      "source": [
        "## Import packages\n",
        "\n",
        "- `os` to create the output directory if needed\n",
        "- `matplotlib` to show 2D images\n",
        "- `tifffile` to write TIFF files\n",
        "- `gvxr` to simulate X-ray images"
      ]
    },
    {
      "cell_type": "code",
      "execution_count": 4,
      "metadata": {
        "id": "s52pDB3Gjg-j",
        "outputId": "9fb37456-38d3-4c1c-e42e-387a34f32d2e",
        "colab": {
          "base_uri": "https://localhost:8080/"
        }
      },
      "outputs": [
        {
          "output_type": "stream",
          "name": "stdout",
          "text": [
            "K3D is not install, you won't be able to visualise the 3D scene using k3D\n"
          ]
        }
      ],
      "source": [
        "# Import packages\n",
        "import os # Create the output directory if necessary\n",
        "import numpy as np # Who does not use Numpy?\n",
        "\n",
        "import matplotlib # To plot images\n",
        "import matplotlib.pyplot as plt # Plotting\n",
        "from matplotlib.colors import LogNorm # Look up table\n",
        "from matplotlib.colors import PowerNorm # Look up table\n",
        "\n",
        "font = {'family' : 'serif',\n",
        "         'size'   : 15\n",
        "       }\n",
        "matplotlib.rc('font', **font)\n",
        "\n",
        "# Uncomment the line below to use LaTeX fonts\n",
        "# matplotlib.rc('text', usetex=True)\n",
        "\n",
        "from tifffile import imwrite # Write TIFF files\n",
        "\n",
        "from gvxrPython3 import gvxr # Simulate X-ray images\n",
        "from gvxrPython3.utils import interactPlotPowerLaw # Interactive plot"
      ]
    },
    {
      "cell_type": "markdown",
      "metadata": {
        "id": "OnwGMeOPjg-j"
      },
      "source": [
        "Make sure the output directory exists"
      ]
    },
    {
      "cell_type": "code",
      "execution_count": 5,
      "metadata": {
        "id": "rkTT54qYjg-k"
      },
      "outputs": [],
      "source": [
        "output_path = \"../notebooks/output_data/first_xray_image\"\n",
        "if not os.path.exists(output_path):\n",
        "    os.makedirs(output_path);"
      ]
    },
    {
      "cell_type": "markdown",
      "metadata": {
        "id": "cvuPTNdejg-k"
      },
      "source": [
        "## 1. Create an OpenGL context\n",
        "\n",
        "The first step is to create the simulation environment, known here as \"OpenGL context\".\n",
        "`createOpenGLContext` will try to find the most suitable environment possible regardless of the operating system. This is an alternative function to `gvxr.createNewContext` used in [test_installation.ipynb](test_installation.ipynb)."
      ]
    },
    {
      "cell_type": "code",
      "execution_count": 7,
      "metadata": {
        "colab": {
          "base_uri": "https://localhost:8080/"
        },
        "id": "O3l2mW4Fjg-k",
        "outputId": "9ebaa9ac-f3f7-4166-efa8-efb1a249f5c8"
      },
      "outputs": [
        {
          "output_type": "stream",
          "name": "stdout",
          "text": [
            "Create an OpenGL context\n"
          ]
        }
      ],
      "source": [
        "# Create an OpenGL context\n",
        "print(\"Create an OpenGL context\");\n",
        "gvxr.createOpenGLContext();"
      ]
    },
    {
      "cell_type": "markdown",
      "metadata": {
        "id": "TGJJ-VAUjg-k"
      },
      "source": [
        "## 2. Set the X-ray source\n",
        "\n",
        "We must set it's position and beam shape."
      ]
    },
    {
      "cell_type": "code",
      "execution_count": 8,
      "metadata": {
        "colab": {
          "base_uri": "https://localhost:8080/"
        },
        "id": "pc9fhhNojg-k",
        "outputId": "08956117-845b-4108-a07a-5cdd5942b7d6"
      },
      "outputs": [
        {
          "output_type": "stream",
          "name": "stdout",
          "text": [
            "Set up the beam\n"
          ]
        }
      ],
      "source": [
        "# Create a source\n",
        "print(\"Set up the beam\");\n",
        "gvxr.setSourcePosition(-40.0,  0.0, 0.0, \"cm\");\n",
        "gvxr.usePointSource();\n",
        "#  For a parallel source, use gvxr.useParallelBeam();"
      ]
    },
    {
      "cell_type": "markdown",
      "metadata": {
        "id": "faqHVUZDjg-l"
      },
      "source": [
        "## 3. Set the Spectrum\n",
        "\n",
        "We define here the number of photons and their kinetic energy."
      ]
    },
    {
      "cell_type": "code",
      "execution_count": 9,
      "metadata": {
        "id": "tA4L8T8Njg-l"
      },
      "outputs": [],
      "source": [
        "# Set its spectrum, here a monochromatic beam\n",
        "# 1000 photons of 80 keV (i.e. 0.08 MeV) per ray\n",
        "gvxr.setMonoChromatic(0.08, \"MeV\", 1000);\n",
        "# The following is equivalent: gvxr.setMonoChromatic(80, \"keV\", 1000);"
      ]
    },
    {
      "cell_type": "markdown",
      "metadata": {
        "id": "ijli6jrCjg-l"
      },
      "source": [
        "## 4. Set the Detector\n",
        "\n",
        "A detector is defined by its position, orientation, pixel resolution and the space between the centre of two consecutive pixels along its two axes."
      ]
    },
    {
      "cell_type": "code",
      "execution_count": 10,
      "metadata": {
        "colab": {
          "base_uri": "https://localhost:8080/"
        },
        "id": "ntxrdc-4jg-l",
        "outputId": "535f52cb-f89b-47dd-e8d1-3755c99b0b83"
      },
      "outputs": [
        {
          "output_type": "stream",
          "name": "stdout",
          "text": [
            "Set up the detector\n"
          ]
        }
      ],
      "source": [
        "# Set up the detector\n",
        "print(\"Set up the detector\");\n",
        "gvxr.setDetectorPosition(10.0, 0.0, 0.0, \"cm\");\n",
        "gvxr.setDetectorUpVector(0, 0, -1);\n",
        "gvxr.setDetectorNumberOfPixels(640, 320);\n",
        "gvxr.setDetectorPixelSize(0.5, 0.5, \"mm\");"
      ]
    },
    {
      "cell_type": "markdown",
      "metadata": {
        "id": "kK3gju1xjg-m"
      },
      "source": [
        "## 5. Set the Sample\n",
        "\n",
        "A sample is define by its geometry (surface) and material composition. Note that you can transform (translate, scale and rotate) a sample."
      ]
    },
    {
      "cell_type": "code",
      "execution_count": 11,
      "metadata": {
        "colab": {
          "base_uri": "https://localhost:8080/"
        },
        "id": "XgDX5Vsbjg-n",
        "outputId": "53af9a6e-74e5-4149-9d31-0ac5a398247d"
      },
      "outputs": [
        {
          "output_type": "stream",
          "name": "stdout",
          "text": [
            "Load the mesh data from /usr/local/lib/python3.11/dist-packages/gvxrPython3/_gvxrPython3/welsh-dragon-small.stl\n",
            "Move  Dragon  to the centre\n"
          ]
        }
      ],
      "source": [
        "# Locate the sample STL file from the package directory\n",
        "path = os.path.dirname(gvxr.__file__);\n",
        "fname = path + \"/welsh-dragon-small.stl\";\n",
        "\n",
        "# Load the sample data\n",
        "if not os.path.exists(fname):\n",
        "    raise IOError(fname);\n",
        "\n",
        "print(\"Load the mesh data from\", fname);\n",
        "gvxr.loadMeshFile(\"Dragon\", fname, \"mm\");\n",
        "\n",
        "print(\"Move \", \"Dragon\", \" to the centre\");\n",
        "gvxr.moveToCentre(\"Dragon\");"
      ]
    },
    {
      "cell_type": "code",
      "execution_count": 12,
      "metadata": {
        "colab": {
          "base_uri": "https://localhost:8080/"
        },
        "id": "eHcPG40ejg-n",
        "outputId": "c2df6739-39d5-43c5-80f1-faea9b0c8920"
      },
      "outputs": [
        {
          "output_type": "stream",
          "name": "stdout",
          "text": [
            "Set  Dragon 's material\n"
          ]
        }
      ],
      "source": [
        "# Material properties\n",
        "print(\"Set \", \"Dragon\", \"'s material\");\n",
        "\n",
        "# Iron (Z number: 26, symbol: Fe)\n",
        "gvxr.setElement(\"Dragon\", 26);\n",
        "gvxr.setElement(\"Dragon\", \"Fe\");\n",
        "\n",
        "# Liquid water\n",
        "gvxr.setCompound(\"Dragon\", \"H2O\");\n",
        "gvxr.setDensity(\"Dragon\", 1.0, \"g/cm3\");\n",
        "gvxr.setDensity(\"Dragon\", 1.0, \"g.cm-3\");\n",
        "\n",
        "# Titanium Aluminum Vanadium Alloy\n",
        "gvxr.setMixture(\"Dragon\", \"Ti90Al6V4\");\n",
        "gvxr.setMixture(\"Dragon\", [22, 13, 23], [0.9, 0.06, 0.04]);\n",
        "gvxr.setMixture(\"Dragon\", [\"Ti\", \"Al\", \"V\"], [0.9, 0.06, 0.04]);\n",
        "gvxr.setDensity(\"Dragon\", 4.43, \"g/cm3\");\n",
        "gvxr.setDensity(\"Dragon\", 4.43, \"g.cm-3\");"
      ]
    },
    {
      "cell_type": "markdown",
      "metadata": {
        "id": "FWhKJqMBjg-n"
      },
      "source": [
        "## 6. Compute the corresponding X-ray image.\n",
        "\n",
        "It is possible to compute, retrieve and save an X-ray image as well as the path length of X-ray through an object."
      ]
    },
    {
      "cell_type": "code",
      "execution_count": 13,
      "metadata": {
        "colab": {
          "base_uri": "https://localhost:8080/"
        },
        "id": "JJzNcr72jg-n",
        "outputId": "cc8d17bd-88e9-48e3-e65e-eadba0a51741"
      },
      "outputs": [
        {
          "output_type": "stream",
          "name": "stdout",
          "text": [
            "Compute an X-ray image\n"
          ]
        }
      ],
      "source": [
        "# Compute an X-ray image\n",
        "# We convert the array in a Numpy structure and store the data using single-precision floating-point numbers.\n",
        "print(\"Compute an X-ray image\");\n",
        "x_ray_image = gvxr.computeXRayImage();\n",
        "\n",
        "# Update the visualisation window\n",
        "gvxr.displayScene();"
      ]
    },
    {
      "cell_type": "code",
      "execution_count": 14,
      "metadata": {
        "id": "SyZUOiV0jg-n"
      },
      "outputs": [],
      "source": [
        "# Save the X-ray image in a TIFF file and store the data using single-precision floating-point numbers.\n",
        "gvxr.saveLastXRayImage(os.path.join(output_path, 'raw_x-ray_image-01.tif'));\n",
        "\n",
        "# The line below will also works\n",
        "imwrite(os.path.join(output_path, 'raw_x-ray_image-02.tif'), x_ray_image);\n",
        "\n",
        "# Save the L-buffer\n",
        "gvxr.saveLastLBuffer(os.path.join(output_path, 'path_length-dragon.tif'));"
      ]
    },
    {
      "cell_type": "markdown",
      "metadata": {
        "id": "yMOMh4hTjg-n"
      },
      "source": [
        "A linear look up table is not always the best way to visualise X-ray images. A log-scale may be favoured (but be mindful $\\log(0)$ does not exist. Another popular method is the Power-law colour scale as we can control the Power law exponent ($\\gamma$). The corresponding normalisation formula is as follows:\n",
        "$$\\left(\\frac{Img - \\min(Img)}{\\max(Img) - \\min(img)}\\right)^\\gamma$$"
      ]
    },
    {
      "cell_type": "code",
      "execution_count": null,
      "metadata": {
        "id": "PR8yKtgFjg-n"
      },
      "outputs": [],
      "source": [
        "# Display the X-ray image and compare three different lookup tables\n",
        "plt.figure(figsize=(15, 7.5));\n",
        "\n",
        "plt.suptitle(\"Image simulated with gVirtualXray visualised\", y=0.75);\n",
        "\n",
        "plt.subplot(131);\n",
        "plt.imshow(x_ray_image, cmap=\"gray\");\n",
        "plt.colorbar(orientation='horizontal');\n",
        "plt.title(\"using a linear colour scale\");\n",
        "\n",
        "plt.subplot(132);\n",
        "plt.imshow(x_ray_image, norm=LogNorm(), cmap=\"gray\");\n",
        "plt.colorbar(orientation='horizontal');\n",
        "plt.title(\"using a logarithmic colour scale\");\n",
        "\n",
        "plt.subplot(133);\n",
        "plt.imshow(x_ray_image, norm=PowerNorm(gamma=1./2.), cmap=\"gray\");\n",
        "plt.colorbar(orientation='horizontal');\n",
        "plt.title(\"using a Power-law colour scale ($\\gamma=0.5$)\");\n",
        "\n",
        "plt.tight_layout();\n",
        "plt.savefig(os.path.join(output_path, 'projection.pdf'), dpi=600);\n",
        "plt.show();"
      ]
    },
    {
      "cell_type": "markdown",
      "metadata": {
        "id": "a6Jv2DpZERu6"
      },
      "source": [
        "You can control the value of &gamma; with a slider in the cell below."
      ]
    },
    {
      "cell_type": "code",
      "execution_count": null,
      "metadata": {
        "id": "M-H0zvekERu6"
      },
      "outputs": [],
      "source": [
        "interactPlotPowerLaw(x_ray_image, gamma=2)"
      ]
    },
    {
      "cell_type": "markdown",
      "metadata": {
        "id": "mbGmmxmyjg-n"
      },
      "source": [
        "It may be useful to visualise the 3D environment to ascertain everything is as expected. It can be done in a window or offscreen with a screenshot."
      ]
    },
    {
      "cell_type": "code",
      "execution_count": null,
      "metadata": {
        "id": "uTxwQ7gdjg-n"
      },
      "outputs": [],
      "source": [
        "# Change the sample's colour\n",
        "# By default the object is white, which is not always pretty. Let's change it to purple.\n",
        "red = 102.0 / 255.0;\n",
        "green = 51.0 / 255.0;\n",
        "blue = 153.0 / 255.0;\n",
        "gvxr.setColour(\"Dragon\", red, green, blue, 1.0);\n",
        "\n",
        "# This image can be used in a research paper to illustrate the simulation environment, in which case you may want to change the background colour to white with:\n",
        "gvxr.setWindowBackGroundColour(1.0, 1.0, 1.0);\n",
        "\n",
        "# Update the visualisation window\n",
        "gvxr.displayScene();"
      ]
    },
    {
      "cell_type": "code",
      "execution_count": null,
      "metadata": {
        "id": "s7Nnf1cijg-n"
      },
      "outputs": [],
      "source": [
        "# Take the screenshot and save it in a file\n",
        "screenshot = gvxr.takeScreenshot();\n",
        "plt.imsave(os.path.join(output_path, \"screenshot.png\"), np.array(screenshot));\n",
        "\n",
        "# or display it using Matplotlib\n",
        "plt.figure(figsize=(10, 10));\n",
        "plt.imshow(screenshot);\n",
        "plt.title(\"Screenshot of the X-ray simulation environment\");\n",
        "plt.axis('off');\n",
        "plt.show();"
      ]
    },
    {
      "cell_type": "markdown",
      "metadata": {
        "id": "TmTuuT0Ujg-p"
      },
      "source": [
        "If windowing is possible, it is possible to run the 3D visualisation in an interactive window."
      ]
    },
    {
      "cell_type": "code",
      "execution_count": null,
      "metadata": {
        "id": "MIFbxRtdjg-p"
      },
      "outputs": [],
      "source": [
        "# Interactive visualisation\n",
        "# The user can rotate the 3D scene and zoom-in and -out in the visualisation window.\n",
        "\n",
        "# - Keys are:\n",
        "#     - Q/Escape: to quit the event loop (does not close the window)\n",
        "#     - B: display/hide the X-ray beam\n",
        "#     - W: display the polygon meshes in solid or wireframe\n",
        "#     - N: display the X-ray image in negative or positive\n",
        "#     - H: display/hide the X-ray detector\n",
        "# - Mouse interactions:\n",
        "#     - Zoom in/out: mouse wheel\n",
        "#     - Rotation: Right mouse button down + move cursor```\n",
        "gvxr.renderLoop();"
      ]
    },
    {
      "cell_type": "markdown",
      "metadata": {
        "id": "1vrbJFWzjg-p"
      },
      "source": [
        "# Cleaning up\n",
        "\n",
        "Once we have finished, it is good practice to clean up the OpenGL contexts and windows with the following command. Note that due to the object-oriented programming nature of the core API of gVXR, this step is automatic anyway."
      ]
    },
    {
      "cell_type": "code",
      "execution_count": null,
      "metadata": {
        "id": "2ldO2muTjg-p"
      },
      "outputs": [],
      "source": [
        "gvxr.destroy();"
      ]
    }
  ],
  "metadata": {
    "colab": {
      "provenance": []
    },
    "kernelspec": {
      "display_name": "Python 3 (ipykernel)",
      "language": "python",
      "name": "python3"
    },
    "language_info": {
      "codemirror_mode": {
        "name": "ipython",
        "version": 3
      },
      "file_extension": ".py",
      "mimetype": "text/x-python",
      "name": "python",
      "nbconvert_exporter": "python",
      "pygments_lexer": "ipython3",
      "version": "3.11.11"
    },
    "vscode": {
      "interpreter": {
        "hash": "585e9fc9b818a92a95ff682530f87f6de2c4282b8239c594bde282f49476a8c7"
      }
    }
  },
  "nbformat": 4,
  "nbformat_minor": 0
}